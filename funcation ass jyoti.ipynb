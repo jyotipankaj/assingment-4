{
 "cells": [
  {
   "cell_type": "code",
   "execution_count": null,
   "id": "efa1a6bc-8fa3-4f5f-b176-9c08d6942bba",
   "metadata": {},
   "outputs": [],
   "source": [
    "Q1. what is the difference between a function and a method in python?"
   ]
  },
  {
   "cell_type": "code",
   "execution_count": null,
   "id": "8b075420-cb94-4334-a15a-083c7c6acddd",
   "metadata": {},
   "outputs": [],
   "source": [
    "ans."
   ]
  },
  {
   "cell_type": "code",
   "execution_count": null,
   "id": "c89c664c-24fd-4c05-a1bb-7f1eb95a6f69",
   "metadata": {},
   "outputs": [],
   "source": [
    "function:  a funcation is a standalone block of code that is defined using the def keyword. it is independest of any class, \n",
    "meaning it's not associated with any specific obkect or data structure .\n",
    "you can call a function directily by is a name.\n",
    " ex-\n",
    "    def greet(name):\n",
    "return f\"hello, {name}!\"\n",
    "print (greet(\"alice\") # calllig the function directly\n",
    "        mwthod: a method is a function that is a defined within a class and is meant to operate  on instances of that class.\n",
    "it is called on object of the class, and it can accesss the data of the object through the self parameter.\n",
    "ex- \n",
    "class greeter: \n",
    "    def greet(self, name):\n",
    "        return f\"hello,{name}!\"\n",
    "        greeter = greeter()\n",
    "        print(greeter.greet(\"alice\")) #calling the method on an object"
   ]
  },
  {
   "cell_type": "code",
   "execution_count": null,
   "id": "6b42cb1c-9dcf-4b72-a27f-198c71550ad2",
   "metadata": {},
   "outputs": [],
   "source": [
    " "
   ]
  },
  {
   "cell_type": "code",
   "execution_count": null,
   "id": "55531edc-a71d-4b09-ad8a-9e39a656b086",
   "metadata": {},
   "outputs": [],
   "source": [
    "Q2. explain the concept of function arguments and parameters in python?"
   ]
  },
  {
   "cell_type": "code",
   "execution_count": null,
   "id": "fdd00f4b-7a93-4486-a918-6e8a267b7f5b",
   "metadata": {},
   "outputs": [],
   "source": [
    "ans.  function- \n",
    "functions are self-contained bolcks of code that can be called from anywhere in your program.\n",
    "- func are not associated with any particular class or object.\n",
    "-func are defined using the def keyword followed by the func name and parameters.\n",
    "ex- \n",
    "#function\n",
    "def greet(name):\n",
    "    print(f\"hello, {name}!)\n",
    "\n",
    "     method- \n",
    "     -method are func that are associated with a particular calss or object.\n",
    "     -methods are defined insude a class definition.\n",
    "     - methods take an additional parameter,usally named self, which refers to the instance of the class.\n",
    "     - methods can be access and modify the attributes of the instance.\n",
    "     ex-\n",
    "     #method\n",
    "     class person:\n",
    "     def_init_(self, name):\n",
    "     self.name= name\n",
    "     def greet(self):\n",
    "     print {f\"hello, my name is {self.name}!)"
   ]
  },
  {
   "cell_type": "code",
   "execution_count": null,
   "id": "83a73253-2385-4211-b907-eccb707e75c0",
   "metadata": {},
   "outputs": [],
   "source": []
  },
  {
   "cell_type": "code",
   "execution_count": null,
   "id": "763d59e0-e450-4508-b955-5fc7255b8d03",
   "metadata": {},
   "outputs": [],
   "source": [
    "Q3. what are the different ways to define and call a function in python?"
   ]
  },
  {
   "cell_type": "code",
   "execution_count": null,
   "id": "5b084019-a511-4427-b949-b40d95e73f5c",
   "metadata": {},
   "outputs": [],
   "source": [
    "ans. python provides several ways to define and call funct.\n",
    "1- simple function \n",
    "def greet(name):\n",
    "    print (f\"hello, {name}!\")\n",
    "    greet(\"john\")\n",
    "    2- func with return value\n",
    "    def add(a,b):\n",
    "        return a+b\n",
    "        print(result)\n",
    "3- func with default arguments\n",
    "def greet(name,message=\"hello\"):\n",
    "    print(f\"{message},{name}!\")\n",
    "4- function with variable arguments \n",
    "def sum_numbers(*numbers):\n",
    "    total = 0\n",
    "    for num in numbers:\n",
    "        total +=num\n",
    "        return total\n",
    "        result = sum_numbers\n",
    "5- func with keyword arguments\n",
    "def greet (name,age,city):\n",
    "    print(f\"hello,{name}!you age {age} years old from {city}.\")\n",
    "6- lambda func\n",
    "add = lambda a,b: a+b \n",
    "result = add(2,3)\n",
    "print(result)\n",
    "7- nested func\n",
    "def outer_func():\n",
    "    def inner_func():\n",
    "        print(\"hello from inner func!\")\n",
    "        inner_func()\n",
    "8- function as an argument\n",
    "9- func as a return value"
   ]
  },
  {
   "cell_type": "code",
   "execution_count": null,
   "id": "5fdf848e-7f6a-4a73-abe3-f3aa6fdc9313",
   "metadata": {},
   "outputs": [],
   "source": []
  },
  {
   "cell_type": "code",
   "execution_count": null,
   "id": "dbfbbe03-cf60-4740-a17c-e176dafaf560",
   "metadata": {},
   "outputs": [],
   "source": [
    "Q4. what is the purpose of the return statement in a python function?"
   ]
  },
  {
   "cell_type": "code",
   "execution_count": null,
   "id": "9a58e3a5-e41e-45b5-91d3-8ab7edf2b2d9",
   "metadata": {},
   "outputs": [],
   "source": [
    "ans.. use the return statement to return values from a function .\n",
    "-keep the return statement simple and easy  to understand.\n",
    "- avoid using the return statement with complex expressions.\n",
    "- use the return statement consistently throughout your code.\n",
    "() returning values\n",
    "()exiting the function\n",
    "()optional return values\n",
    "()returning none\n",
    "ex-\n",
    "def greet(name):\n",
    "    returnf\"hello,{name}!\"\n",
    "    print(greet(\"john\"))"
   ]
  },
  {
   "cell_type": "code",
   "execution_count": null,
   "id": "f3d12209-f538-4c1f-b622-1213f1ffb395",
   "metadata": {},
   "outputs": [],
   "source": []
  },
  {
   "cell_type": "code",
   "execution_count": null,
   "id": "5de81980-5139-4ccd-8835-7bdefb1eda8c",
   "metadata": {},
   "outputs": [],
   "source": [
    "Q5. what are iterators in python of the how do they differ from iterables?"
   ]
  },
  {
   "cell_type": "code",
   "execution_count": null,
   "id": "f16ec9e5-1975-4b80-ae65-670df253daac",
   "metadata": {},
   "outputs": [],
   "source": [
    "ans.  iterables -\n",
    "an iterable is an object that can  be iterated upon, meaning that you can traverse through its elements\n",
    "one by one\n",
    "ex-\n",
    "-lists: [1,2,3]\n",
    "-tuples:(1,2,3)\n",
    "-strings: \"hello\"\n",
    "dictionaries:{\"a\":1,\"b\":2}\n",
    "-sets:{1,2,3}\n",
    "\n",
    "iterators\n",
    "\n",
    " an iterators is an object that enables you to iterate over an iterable.\n",
    "it keeps track of its current position in the iterable and returns the next element when you call its\n",
    "_next_() method.\n",
    "ex-\n",
    "    -list iterator: iter([1,2,3])\n",
    "    -tuple iterator:iter((1,2,3))\n",
    "    -string iterator:iter(\"hello\")\n",
    "    -dictionary iterator:iter({\"a\":1,\"b':2})\n",
    "    - set iterator:iter({1,2,3})"
   ]
  },
  {
   "cell_type": "code",
   "execution_count": null,
   "id": "b8a24a24-323c-42dd-928c-549dc26a1958",
   "metadata": {},
   "outputs": [],
   "source": []
  },
  {
   "cell_type": "code",
   "execution_count": null,
   "id": "97e86936-8fcd-4891-8d29-3415aece78bc",
   "metadata": {},
   "outputs": [],
   "source": [
    "Q6.  explain the concept of generators in python and how they are defined?"
   ]
  },
  {
   "cell_type": "code",
   "execution_count": null,
   "id": "ee437e9f-1a84-4670-8ea2-9225ccc48819",
   "metadata": {},
   "outputs": [],
   "source": [
    "ans. gen in python \n",
    "gen are a type of iterable , similar to lists or tuples , but they do not store all the values in memory at once.\n",
    "instead, generator compute their values on- the-fly, which makes them memory-efficieny and useful for handling large datasets.\n",
    "\n",
    "defining a generator\n",
    "\n",
    " a gen is defined using a func , but instead of using the return statement,you use  the yield statement.\n",
    "the yield statement produces a value and suspends the func execution until the next value is requested.\n",
    "\n",
    "    ex-\n",
    "    def my_generator():\n",
    "yield 1 \n",
    "yield 2\n",
    "yield 3\n",
    "# create a generator object \n",
    "gen = my_generator()\n",
    "print(value)\n",
    "output:\n",
    "1\n",
    "2\n",
    "3"
   ]
  },
  {
   "cell_type": "code",
   "execution_count": null,
   "id": "477eec92-34a3-4f55-8c80-3ccdddb7284a",
   "metadata": {},
   "outputs": [],
   "source": []
  },
  {
   "cell_type": "code",
   "execution_count": null,
   "id": "2c2343bc-ee1b-42b7-a5fc-54c37f08223f",
   "metadata": {},
   "outputs": [],
   "source": [
    "Q7.  what are the advantages of using generators over regular functions?"
   ]
  },
  {
   "cell_type": "raw",
   "id": "d2168ba6-40c8-4911-99bb-9fdd68deddb7",
   "metadata": {},
   "source": [
    "ans. advantages of generators\n",
    "-memory efficiency :\n",
    "they don't require  storing the entire dataset in memory.\n",
    "-simplified code:\n",
    " generators make  it easy to write iterators without needing to manage the iterator's state explicity.\n"
   ]
  },
  {
   "cell_type": "code",
   "execution_count": null,
   "id": "1a6a89cd-5797-4e7f-85a1-23fd56198bad",
   "metadata": {},
   "outputs": [],
   "source": []
  },
  {
   "cell_type": "code",
   "execution_count": null,
   "id": "00e8d152-09e1-48e0-9dac-afc8eb3ba064",
   "metadata": {},
   "outputs": [],
   "source": [
    "Q8. what is lambda  function in python and when it is typically used?"
   ]
  },
  {
   "cell_type": "code",
   "execution_count": null,
   "id": "4f5ec099-c7e6-4857-a481-c91393150b05",
   "metadata": {},
   "outputs": [],
   "source": [
    "ans. a lambda func in oython is a small  anonymous func defind using the  lambda keyword.\n",
    "unlike regular func defined with the def keyword, lambda func are typically used for short , simple operations where the func body \n",
    "is a single expression .\n",
    "they can take any numbers of arhuments but can only have one expression,\n",
    "which is evaluted and returned.\n",
    "ex-\n",
    " add = lambda x,y: x+y\n",
    "result = add (5,3) # output :8\n",
    "\n",
    "typical use cases for lambda func:\n",
    "short func: when you need quick func for a short task won't be resued elsewhere,lambda func.\n",
    "\n",
    "- higher-order func:\n",
    "lambda func are often used as arguments to higher-order func.\n",
    "           this is common in func li func like map(),filter(),and sorted()."
   ]
  },
  {
   "cell_type": "code",
   "execution_count": null,
   "id": "29a3ac02-a09a-4e0d-bcaf-462c91faf7a7",
   "metadata": {},
   "outputs": [],
   "source": []
  },
  {
   "cell_type": "code",
   "execution_count": null,
   "id": "5735a343-6efc-41b3-96e6-13e991f92445",
   "metadata": {},
   "outputs": [],
   "source": [
    "Q9. what is the purpose and usage of the map()funcation in python?"
   ]
  },
  {
   "cell_type": "code",
   "execution_count": null,
   "id": "6a7909fa-682a-49f7-872b-07ebe38d2ee7",
   "metadata": {},
   "outputs": [],
   "source": [
    "ans. the map() func in python  is a built0 in func used to apply a specified func to each item of an iterable.\n",
    "the main purpose of map() is to facilitate func programming by enabling transformation or computation on\n",
    "tterable elements in a concise and efficient manner.\n",
    "purpose of map()\n",
    "    -transformation: \n",
    "map() is primarilly used to transform data in an iterable by applying a func to each element.\n",
    "efficiency:\n",
    "it can provide performance benefits by avoiding the overhead of explicit loops and supporting\n",
    "lazy evalution,which means values are produced as needed."
   ]
  },
  {
   "cell_type": "code",
   "execution_count": null,
   "id": "b9ea49b9-e553-412d-806d-302cd95604a2",
   "metadata": {},
   "outputs": [],
   "source": []
  },
  {
   "cell_type": "code",
   "execution_count": null,
   "id": "a6a698a3-658d-4a15-9afd-a13b1cadaa22",
   "metadata": {},
   "outputs": [],
   "source": [
    "Q10. what is the difference between map(), reduce(), and filter() func in python?"
   ]
  },
  {
   "cell_type": "code",
   "execution_count": null,
   "id": "7daf2edf-c153-4e86-aa1a-b0ac912e3563",
   "metadata": {},
   "outputs": [],
   "source": [
    "ans.  \n",
    "map()\n",
    "purpose: \n",
    "apply a func to each item\n",
    "-output new iterable with transformed items\n",
    "-func signature\n",
    "takes a func and an iterable(s)\n",
    "-use case \n",
    "transforming elements value\n",
    "\n",
    "filter() \n",
    "\n",
    "purpose \n",
    "filter items based on a conditin\n",
    "-output \n",
    "new iterable with filtered items \n",
    "-func signature\n",
    "takes a func and an iterable\n",
    "- use case\n",
    " selecting elements\n",
    "\n",
    "reduce()\n",
    " -purpose-\n",
    "cumulatively apply a func\n",
    "-output\n",
    "single cumulative value\n",
    "-func sing\n",
    "takes a function and an iteravle\n",
    "-use case \n",
    "reducing elements to a single"
   ]
  },
  {
   "cell_type": "code",
   "execution_count": null,
   "id": "a6e5d9a1-5cff-42b9-982b-3dde7d7ed0c6",
   "metadata": {},
   "outputs": [],
   "source": [
    "Q11.  write the internal mechanism of sum operation using reduce funcation on this given list:[47,11,42,13]"
   ]
  },
  {
   "cell_type": "code",
   "execution_count": null,
   "id": "8a3fb8f3-3019-4227-ba8e-d8d3e7396c1d",
   "metadata": {},
   "outputs": [],
   "source": [
    "ans.  \n",
    "from functools import reduce\n",
    "#define the addition function\n",
    "def add (x,y): \n",
    "    return x+y\n",
    "    # initialize the list\n",
    "    numbers = [47,11,42,13]\n",
    "\n",
    "#use reduce to sum the numbers \n",
    "total = reduced(add,numbers)\n",
    " #print the result\n",
    "print(total)\n",
    "# output: 113\n",
    "\n",
    "\n",
    "list47 and 11.\n",
    "calls add(47,11) which returns 58.\n",
    "the result 58 is then combined with the next element in the list:42\n",
    "calls add(58,42) which returns 100.\n",
    "the result 100 is then comined with the last element in the list:13.\n",
    "calls add (100,13)which returns113.\n"
   ]
  },
  {
   "cell_type": "code",
   "execution_count": null,
   "id": "297ee785-b9f9-41ac-9393-69e548bf92e5",
   "metadata": {},
   "outputs": [],
   "source": []
  },
  {
   "cell_type": "markdown",
   "id": "8aad6067-984d-4b7b-b37f-808bcaae7860",
   "metadata": {},
   "source": [
    "#### practical question"
   ]
  },
  {
   "cell_type": "code",
   "execution_count": null,
   "id": "fe93fc04-95e2-449f-80f6-b299c73b17fc",
   "metadata": {},
   "outputs": [],
   "source": []
  },
  {
   "cell_type": "code",
   "execution_count": null,
   "id": "e989eda8-72c1-4c2b-9de1-0ae6d929a1eb",
   "metadata": {},
   "outputs": [],
   "source": [
    "Q1. write a python function that takes a list of numbers as input and returns the sum of all even numbers in the list."
   ]
  },
  {
   "cell_type": "code",
   "execution_count": 47,
   "id": "5009030a-7717-4475-aa0c-3d3f43a57f51",
   "metadata": {},
   "outputs": [],
   "source": [
    "ans.l = [1,2,3,4,5,6]\n",
    "def sum_even_numbers(l):\n",
    "    return sum(num for num in l if num%2==0)"
   ]
  },
  {
   "cell_type": "code",
   "execution_count": 48,
   "id": "770dcba0-8957-47cf-8b3e-73198dd5c872",
   "metadata": {},
   "outputs": [
    {
     "data": {
      "text/plain": [
       "12"
      ]
     },
     "execution_count": 48,
     "metadata": {},
     "output_type": "execute_result"
    }
   ],
   "source": [
    "sum_even_numbers(l)"
   ]
  },
  {
   "cell_type": "code",
   "execution_count": null,
   "id": "7f96b92f-47d0-4a29-a416-a5c94fa1e867",
   "metadata": {},
   "outputs": [],
   "source": []
  },
  {
   "cell_type": "code",
   "execution_count": null,
   "id": "101421e8-bd2e-4a26-962d-887d8b45e354",
   "metadata": {},
   "outputs": [],
   "source": [
    "Q2. create a python function that accepts a string and returns the reverse of that string."
   ]
  },
  {
   "cell_type": "code",
   "execution_count": null,
   "id": "69ff6b3c-8ba2-40bd-87c6-50bac6774e8c",
   "metadata": {},
   "outputs": [],
   "source": [
    "ans."
   ]
  },
  {
   "cell_type": "code",
   "execution_count": 2,
   "id": "6c5e0c39-8724-4d2f-99b5-54c24d987920",
   "metadata": {},
   "outputs": [
    {
     "name": "stdout",
     "output_type": "stream",
     "text": [
      "b\n",
      "ba\n"
     ]
    }
   ],
   "source": [
    "a = \"ab\"\n",
    "b =  ''\n",
    "#lterate over thecharacters of the reversed string\n",
    "for i in a[::-1]:\n",
    "    b +=i\n",
    "    print(b)"
   ]
  },
  {
   "cell_type": "code",
   "execution_count": null,
   "id": "f62932a0-ec23-4549-8256-be908ba96608",
   "metadata": {},
   "outputs": [],
   "source": [
    "Q3. implenment a python functions that takes a list of integers and returns a new list containing the squares of each numbers."
   ]
  },
  {
   "cell_type": "code",
   "execution_count": null,
   "id": "cd9b3279-8960-4ea5-8d3d-6ab168adbdb9",
   "metadata": {},
   "outputs": [],
   "source": [
    "ans."
   ]
  },
  {
   "cell_type": "code",
   "execution_count": 3,
   "id": "b89d9e5c-16a2-42bb-ad26-976cd3d4508a",
   "metadata": {},
   "outputs": [
    {
     "name": "stdout",
     "output_type": "stream",
     "text": [
      "[1, 4, 9, 16]\n",
      "ok\n"
     ]
    }
   ],
   "source": [
    "a = [1,2,3,4]\n",
    "b = lambda c: c**2\n",
    "result = map(b,a)\n",
    "print(list(result))\n",
    "print(\"ok\")"
   ]
  },
  {
   "cell_type": "code",
   "execution_count": null,
   "id": "22151226-74bf-4f22-9c8c-c9571086116a",
   "metadata": {},
   "outputs": [],
   "source": []
  },
  {
   "cell_type": "code",
   "execution_count": null,
   "id": "a6e010bf-4460-4099-b055-b307a1298981",
   "metadata": {},
   "outputs": [],
   "source": [
    "Q4. write a python function that checks if a given numbers is prime or not from 1 to200."
   ]
  },
  {
   "cell_type": "code",
   "execution_count": null,
   "id": "b4744325-3a46-4215-ae73-4580675f2a7d",
   "metadata": {},
   "outputs": [],
   "source": [
    "ans."
   ]
  },
  {
   "cell_type": "code",
   "execution_count": 5,
   "id": "5dc771ed-6e89-4042-b794-a754bacb8da1",
   "metadata": {},
   "outputs": [
    {
     "name": "stdout",
     "output_type": "stream",
     "text": [
      "[1, 2, 3, 5, 7, 11, 13, 17, 19, 23, 29, 31, 37, 41, 43, 47, 53, 59, 61, 67, 71, 73, 79, 83, 89, 97, 101, 103, 107, 109, 113, 127, 131, 137, 139, 149, 151, 157, 163, 167, 173, 179, 181, 191, 193, 197, 199]\n",
      "ok\n"
     ]
    }
   ],
   "source": [
    "a = range(1,201)\n",
    "b = filter(lambda c: all(c % i !=0 for i in range(2, int(c**0.5)+1)),a)\n",
    "print(list(b))\n",
    "print(\"ok\")"
   ]
  },
  {
   "cell_type": "code",
   "execution_count": null,
   "id": "140ccac2-c811-4555-92c6-e1d5eb4d4a08",
   "metadata": {},
   "outputs": [],
   "source": []
  },
  {
   "cell_type": "code",
   "execution_count": null,
   "id": "3ebc5e19-4c36-472d-82cb-0bb4b8f56866",
   "metadata": {},
   "outputs": [],
   "source": [
    "Q5. create an iteator class in python that generates the fibonacci sequence up to a specified number of terms."
   ]
  },
  {
   "cell_type": "code",
   "execution_count": null,
   "id": "e69a09eb-c043-4d5c-9bfa-377a49c273d4",
   "metadata": {},
   "outputs": [],
   "source": [
    "ans."
   ]
  },
  {
   "cell_type": "code",
   "execution_count": 13,
   "id": "c0faf3ef-574b-4d37-b602-473744449673",
   "metadata": {},
   "outputs": [
    {
     "data": {
      "text/plain": [
       "[0, 1, 1, 2, 3, 5, 8, 13, 21, 34]"
      ]
     },
     "execution_count": 13,
     "metadata": {},
     "output_type": "execute_result"
    }
   ],
   "source": [
    "fib = lambda n : n if n<=1 else fib(n-1) + fib(n-2)\n",
    "[fib(i) for i in range(10)]"
   ]
  },
  {
   "cell_type": "code",
   "execution_count": null,
   "id": "5a206d9f-5f98-4728-9f5e-cf3a5d33d315",
   "metadata": {},
   "outputs": [],
   "source": []
  },
  {
   "cell_type": "code",
   "execution_count": null,
   "id": "e35c2308-a194-4fc5-9434-ff280ca4cb11",
   "metadata": {},
   "outputs": [],
   "source": [
    "Q6. write a generator function in python that yields the power of 2 up to a given exponent."
   ]
  },
  {
   "cell_type": "code",
   "execution_count": null,
   "id": "2aed139e-59d6-4bf2-9fec-0f70c8153f4a",
   "metadata": {},
   "outputs": [],
   "source": []
  },
  {
   "cell_type": "code",
   "execution_count": 21,
   "id": "d247d033-9849-487f-81a4-de5654299ef9",
   "metadata": {},
   "outputs": [
    {
     "name": "stdout",
     "output_type": "stream",
     "text": [
      "1\n",
      "2\n",
      "4\n",
      "8\n",
      "16\n",
      "32\n"
     ]
    }
   ],
   "source": [
    "def power_of_2_yield(n):\n",
    "    for i in range(n+1):\n",
    "        \n",
    "        yield 2 ** i\n",
    "\n",
    "for power in power_of_2_yield(5):\n",
    "    print(power)"
   ]
  },
  {
   "cell_type": "code",
   "execution_count": null,
   "id": "0586bb3f-3766-4214-b828-8e60c3fdaa7d",
   "metadata": {},
   "outputs": [],
   "source": []
  },
  {
   "cell_type": "code",
   "execution_count": null,
   "id": "e39e4182-d5cb-484b-9cd3-eb69cb9da2a4",
   "metadata": {},
   "outputs": [],
   "source": [
    "Q7. implement a generator function that reads a file  line by line and yields each line as a string."
   ]
  },
  {
   "cell_type": "code",
   "execution_count": null,
   "id": "8176a794-67df-42de-a702-dec3cc2a189e",
   "metadata": {},
   "outputs": [],
   "source": [
    "ans."
   ]
  },
  {
   "cell_type": "code",
   "execution_count": 26,
   "id": "b2005d78-1ed9-4095-a9d1-36dd0c6f95d1",
   "metadata": {},
   "outputs": [
    {
     "name": "stdout",
     "output_type": "stream",
     "text": [
      "welcome to the the office jyoti\n",
      "this is my second line\n",
      "this is my third line\n",
      "this is my fourth line\n"
     ]
    }
   ],
   "source": [
    "print(\"welcome to the the office jyoti\")\n",
    "print(\"this is my second line\")\n",
    "print(\"this is my third line\")\n",
    "print(\"this is my fourth line\")"
   ]
  },
  {
   "cell_type": "code",
   "execution_count": null,
   "id": "91248c4e-112f-408a-894b-9a95047174ef",
   "metadata": {},
   "outputs": [],
   "source": []
  },
  {
   "cell_type": "code",
   "execution_count": null,
   "id": "b176e5d2-0402-4cfc-9d50-594702f4e0dc",
   "metadata": {},
   "outputs": [],
   "source": [
    "Q8. use a lambda function in python to sort a list of tuples based on the second element of each tuple."
   ]
  },
  {
   "cell_type": "code",
   "execution_count": null,
   "id": "7c88c768-16e2-4844-80bf-3392cf3d9d42",
   "metadata": {},
   "outputs": [],
   "source": [
    "ans."
   ]
  },
  {
   "cell_type": "code",
   "execution_count": 27,
   "id": "8ffa02dd-e793-4b9a-b012-03b90436dd7b",
   "metadata": {},
   "outputs": [
    {
     "name": "stdout",
     "output_type": "stream",
     "text": [
      "[(2, 1), (3, 2), (1, 3), (4, 4)]\n"
     ]
    }
   ],
   "source": [
    "tuples_list = [(1,3),(2,1),(3,2),(4,4)]\n",
    "sorted_list = sorted(tuples_list, key=lambda x: x[1])\n",
    "print(sorted_list)"
   ]
  },
  {
   "cell_type": "code",
   "execution_count": null,
   "id": "f000e807-8564-46c3-a3c4-7197d82b70f6",
   "metadata": {},
   "outputs": [],
   "source": []
  },
  {
   "cell_type": "code",
   "execution_count": null,
   "id": "e583e8f8-ecc7-478f-84ba-d605028b5971",
   "metadata": {},
   "outputs": [],
   "source": [
    "Q9. write a python program that uses map() to convert a list of temperatures from celsius to fahrenheit."
   ]
  },
  {
   "cell_type": "code",
   "execution_count": null,
   "id": "a144f993-056e-4c2d-b0fa-3d37a5665c43",
   "metadata": {},
   "outputs": [],
   "source": [
    "ans."
   ]
  },
  {
   "cell_type": "code",
   "execution_count": 40,
   "id": "57764799-45b1-4b7a-b60d-2cb0941de750",
   "metadata": {},
   "outputs": [
    {
     "name": "stdout",
     "output_type": "stream",
     "text": [
      "[32.0, 68.0, 98.6, 212.0]\n"
     ]
    }
   ],
   "source": [
    "def celsius_to_fahrenheit(celsius_list):\n",
    "    return list(map(lambda c: (c * 9/5) + 32 , celsius_list))\n",
    "\n",
    "#example usage\n",
    "celsius = [0,20,37,100]\n",
    "fahrenheit = celsius_to_fahrenheit(celsius)\n",
    "print(fahrenheit)\n",
    "\n"
   ]
  },
  {
   "cell_type": "code",
   "execution_count": null,
   "id": "584e4893-e470-444e-8966-b51f371219cf",
   "metadata": {},
   "outputs": [],
   "source": []
  },
  {
   "cell_type": "code",
   "execution_count": null,
   "id": "4d6aba2f-d406-4d70-9952-cee9ff82850c",
   "metadata": {},
   "outputs": [],
   "source": [
    "Q10. create a python program that uses filter() to remove all the vowels from a given string."
   ]
  },
  {
   "cell_type": "code",
   "execution_count": null,
   "id": "200dbc24-e117-42c8-a3a1-bf9b99c05afe",
   "metadata": {},
   "outputs": [],
   "source": [
    "ans."
   ]
  },
  {
   "cell_type": "code",
   "execution_count": 50,
   "id": "e3fc1372-e3f4-4764-ad1a-0c38a18f173a",
   "metadata": {},
   "outputs": [],
   "source": [
    "def remove_vowels(string):\n",
    "    return '' .join (filter(lambda char: char.lower() not in 'aeiou', string))\n",
    "    #example usage\n",
    "    text = \"hello world\"\n",
    "    print(remove_vowels(text))"
   ]
  },
  {
   "cell_type": "code",
   "execution_count": 54,
   "id": "60bafb86-0916-4cf9-9e50-6b7d1a224a79",
   "metadata": {},
   "outputs": [
    {
     "data": {
      "text/plain": [
       "'hll wrld'"
      ]
     },
     "execution_count": 54,
     "metadata": {},
     "output_type": "execute_result"
    }
   ],
   "source": [
    "remove_vowels(\"hello world\")"
   ]
  },
  {
   "cell_type": "code",
   "execution_count": null,
   "id": "e28530ed-e764-482e-b586-0c78abaf0a9d",
   "metadata": {},
   "outputs": [],
   "source": []
  },
  {
   "cell_type": "code",
   "execution_count": null,
   "id": "4e2ddd63-e0aa-45e0-a33f-2223ccb91a41",
   "metadata": {},
   "outputs": [],
   "source": [
    "Q11. imagine an accounting routine uses in a bool shop. it works on a list with sublists, which look like this:\n",
    "\n",
    "order numbers          book title and author     quantity     price per item\n",
    "34587           learning python,mark lutz          4             40.95\n",
    "98762           programming python, mark lutz      5             56.80\n",
    "77226           head first python, paul barry      3             32.95\n",
    "88112           einfuhrung in python3, bernd klein  3            24.99\n",
    "\n",
    "\n",
    "write a python program , which returens a list with 2-tuples. each tuple consists of the order number and the product of the priceper item and the quantity.\n",
    "the product should be increased by10, -$ if the value of the order is smaller than 100,00$.\n",
    "                                                                                      write a python program using lambda and map."
   ]
  },
  {
   "cell_type": "code",
   "execution_count": 42,
   "id": "4944fb32-2523-4a8f-971a-e7ff88b9004a",
   "metadata": {},
   "outputs": [
    {
     "name": "stdout",
     "output_type": "stream",
     "text": [
      "<map object at 0x00000168B5990B20>\n"
     ]
    }
   ],
   "source": [
    "orders = [\n",
    "    [101, 4, 40.00],\n",
    "    [202, 5, 56.80],\n",
    "    [302, 3, 24.99],\n",
    "]\n",
    "def calculate_order(order):\n",
    "    order_number, price_per_item * quantity == order\n",
    "    total_price = price_per_item * quantity\n",
    "    if total_price < 100: \n",
    "        total_price += 10\n",
    "        return (order_number , total_price)\n",
    "        result = list(map(lambda order : calculate_order(order), orders))\n",
    "\n",
    "print(result)"
   ]
  },
  {
   "cell_type": "raw",
   "id": "14bcfc62-83f6-4a06-b499-716c325590b7",
   "metadata": {},
   "source": [
    "[(101, 160.0), (202, 284.0), (302, 108.850000001),(402, 84.97)]"
   ]
  },
  {
   "cell_type": "code",
   "execution_count": null,
   "id": "0b633dd5-1761-43da-8e44-59187c9159be",
   "metadata": {},
   "outputs": [],
   "source": []
  },
  {
   "cell_type": "code",
   "execution_count": null,
   "id": "214fe388-0bc2-4884-97d1-4f0be619e555",
   "metadata": {},
   "outputs": [],
   "source": []
  }
 ],
 "metadata": {
  "kernelspec": {
   "display_name": "Python 3 (ipykernel)",
   "language": "python",
   "name": "python3"
  },
  "language_info": {
   "codemirror_mode": {
    "name": "ipython",
    "version": 3
   },
   "file_extension": ".py",
   "mimetype": "text/x-python",
   "name": "python",
   "nbconvert_exporter": "python",
   "pygments_lexer": "ipython3",
   "version": "3.12.7"
  }
 },
 "nbformat": 4,
 "nbformat_minor": 5
}
